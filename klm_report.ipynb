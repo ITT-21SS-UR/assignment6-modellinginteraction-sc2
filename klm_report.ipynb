{
 "cells": [
  {
   "cell_type": "markdown",
   "metadata": {
    "collapsed": true
   },
   "source": [
    "# Predict and verify task completion times study\n",
    "### Author: Claudia, Sarah\n",
    "### Reviewer: Sarah"
   ]
  },
  {
   "cell_type": "markdown",
   "metadata": {},
   "source": [
    "## Test Design\n",
    "We conduct a study in which we measure the task completion time of four calculating tasks and compare them with our own KLM operator values and the ones from Card, Moran and Newell (1980). For this purpose, we created a calculator and used our result from our previous experiment which determined our KLM values. The study was performed at home with a notebook, an external keyboard (with numpad and Qwertz design) and a mouse. \n",
    "\n",
    "The study uses a within-subject design whereby each participant solved all the four tasks once to minimize learning effects. \n",
    "\n",
    "In order to mitigate confounding and random variables the tasks of the study were presented in a counter balanced order (see Balanced Latin Squares at https://cs.uwaterloo.ca/~dmasson/tools/latin_square/). \n",
    "\n",
    "### Tasks\n",
    "the four tasks are:\n",
    "- Task A: adding the numbers from 1 to 20 using only the mouse\n",
    "- Task B: adding the numbers from 1 to 20 using only the keyboard\n",
    "- Task C: calculating the result of (3² + 4²) * 15.2 using only the mouse\n",
    "- Task D: calculating the result of (3² + 4²) * 15.2 using only the keyboard\n",
    "\n",
    "### Procedure\n",
    "First, the participant was asked about his/her age, occupation and his/her gender was noted. The procedure of the study was explained to him/her and any questions were clarified. \n",
    "Afterwards the participants solved the tasks above in counter balanced order. \n",
    "Each participant carried out the study four times to obtain plenty of data.\n",
    "For each task, the configuration file was adapted and then the calculator script was executed. The participant id, an abbreviation for the task name, the input type, the input value and the timestamp are logged."
   ]
  },
  {
   "cell_type": "markdown",
   "metadata": {},
   "source": [
    "### Participants\n",
    "Due to the current pandemic situation and limited time the selection of participants is constrained.\n",
    "The study was conducted with four participants (two female, two male). Among them were two media informatics students, one mathematics student and one software engineer. The ages of the participants were 20, 22, 25 and 38.\n",
    "In order to obtain a lot of data, each participant performed the study four times."
   ]
  },
  {
   "cell_type": "markdown",
   "metadata": {},
   "source": [
    "### Variables\n",
    "The dependent variable is the task completion time which is calculated from the logged timestamps. \n",
    "The independent variables are the tasks and the input type (mouse or keyboard).\n",
    "As control variables we document the keyboard, mouse and the global position of the window in the centre of the screen. "
   ]
  },
  {
   "cell_type": "markdown",
   "metadata": {},
   "source": [
    "# Analysis"
   ]
  },
  {
   "cell_type": "markdown",
   "metadata": {},
   "source": [
    "### Import all relevant libraries"
   ]
  },
  {
   "cell_type": "code",
   "execution_count": 40,
   "metadata": {},
   "outputs": [],
   "source": [
    "import pandas as pd\n",
    "import numpy as np\n",
    "import pingouin as pg\n",
    "import seaborn as sns\n",
    "from matplotlib import pyplot as plt"
   ]
  },
  {
   "cell_type": "code",
   "execution_count": 41,
   "metadata": {},
   "outputs": [],
   "source": [
    "from PyQt5.QtCore import QDateTime\n",
    "from PyQt5.QtCore import Qt"
   ]
  },
  {
   "cell_type": "markdown",
   "metadata": {},
   "source": [
    "### All csv column names and csv values that are used more than once as variables"
   ]
  },
  {
   "cell_type": "code",
   "execution_count": 42,
   "metadata": {},
   "outputs": [],
   "source": [
    "# column names\n",
    "PARTICIPANT_ID = \"participant_id\"\n",
    "TASK = \"task\"\n",
    "INPUT_TYPE = \"input_type\"\n",
    "TIMESTAMP = \"timestamp\"\n",
    "TASK_COMPLETION_TIME = \"task_completion_time_in_s\"\n",
    "\n",
    "# some table values\n",
    "INPUT_MOUSE = \"button_clicked\"\n",
    "INPUT_KEYBOARD = \"key_pressed\"\n",
    "\n",
    "TASK_A = \"A\"\n",
    "TASK_B = \"B\"\n",
    "TASK_C = \"C\"\n",
    "TASK_D = \"D\""
   ]
  },
  {
   "cell_type": "markdown",
   "metadata": {},
   "source": [
    "## Calculate task completion time"
   ]
  },
  {
   "cell_type": "code",
   "execution_count": 43,
   "metadata": {},
   "outputs": [],
   "source": [
    "def calc_time_diff(data):\n",
    "    start_time = QDateTime.fromString(data[TIMESTAMP][0], Qt.ISODateWithMs)\n",
    "    start_time_in_ms = QDateTime.toMSecsSinceEpoch(start_time)\n",
    "    \n",
    "    number = len(data) - 1\n",
    "    end_time = QDateTime.fromString(data[TIMESTAMP][number], Qt.ISODateWithMs)\n",
    "    end_time_in_ms = QDateTime.toMSecsSinceEpoch(end_time)\n",
    "    \n",
    "    return (end_time_in_ms - start_time_in_ms) / 1000"
   ]
  },
  {
   "cell_type": "code",
   "execution_count": 44,
   "metadata": {},
   "outputs": [],
   "source": [
    "def update_table(new_table):\n",
    "    new_table[TASK_COMPLETION_TIME] = np.NaN\n",
    "    \n",
    "    new_table.loc[len(new_table) - 1, TASK_COMPLETION_TIME] = calc_time_diff(new_table)\n",
    "    new_table = new_table[new_table[TASK_COMPLETION_TIME].notna()][[PARTICIPANT_ID, TASK, INPUT_TYPE, TASK_COMPLETION_TIME]]\n",
    "    \n",
    "    return new_table"
   ]
  },
  {
   "cell_type": "code",
   "execution_count": 68,
   "metadata": {},
   "outputs": [],
   "source": [
    "tables = {}\n",
    "total_task_completion_times_tables = []\n",
    "\n",
    "for i in range (1, 17):  \n",
    "    # read in csv files\n",
    "    raw_data_mouse_add = pd.read_csv(\"study_results/{num}_mouse_add.csv\".format(num = i))\n",
    "    raw_data_mouse_complex = pd.read_csv(\"study_results/{num}_mouse_complex.csv\".format(num = i))\n",
    "    raw_data_key_add = pd.read_csv(\"study_results/{num}_key_add.csv\".format(num = i))\n",
    "    raw_data_key_complex = pd.read_csv(\"study_results/{num}_key_complex.csv\".format(num = i))\n",
    "    \n",
    "    # generate new tables based on raw data tables\n",
    "    new_table_name_mouse_add = \"time_diff_mouse_add_{num}\".format(num = i)\n",
    "    tables[new_table_name_mouse_add] = raw_data_mouse_add  \n",
    "    \n",
    "    new_table_name_mouse_complex = \"time_diff_mouse_complex_{num}\".format(num = i)\n",
    "    tables[new_table_name_mouse_complex] = raw_data_mouse_complex  \n",
    "    \n",
    "    new_table_name_key_add = \"time_diff_key_add_{num}\".format(num = i)\n",
    "    tables[new_table_name_key_add] = raw_data_key_add \n",
    "    \n",
    "    new_table_name_key_complex = \"time_diff_key_complex_{num}\".format(num = i)\n",
    "    tables[new_table_name_key_complex] = raw_data_key_complex  \n",
    "    \n",
    "    \n",
    "    # calculate time difference and filter data\n",
    "    tables[new_table_name_mouse_add] = update_table(tables[new_table_name_mouse_add])\n",
    "    tables[new_table_name_mouse_complex] = update_table(tables[new_table_name_mouse_complex])\n",
    "    tables[new_table_name_key_add] = update_table(tables[new_table_name_key_add])\n",
    "    tables[new_table_name_key_complex] = update_table(tables[new_table_name_key_complex])\n",
    "    \n",
    "    # append the tables to total_task_completion_times_tables\n",
    "    total_task_completion_times_tables.append(tables[new_table_name_mouse_add])\n",
    "    total_task_completion_times_tables.append(tables[new_table_name_key_add])\n",
    "    total_task_completion_times_tables.append(tables[new_table_name_mouse_complex])\n",
    "    total_task_completion_times_tables.append(tables[new_table_name_key_complex])"
   ]
  },
  {
   "cell_type": "markdown",
   "metadata": {},
   "source": [
    "### Create dataframes and filter them"
   ]
  },
  {
   "cell_type": "code",
   "execution_count": 70,
   "metadata": {},
   "outputs": [],
   "source": [
    "total_task_completion_times = pd.concat(total_task_completion_times_tables)\n",
    "total_task_completion_times.to_csv(\"study_results/total_task_completion_times.csv\", index=False)\n",
    "\n",
    "input_mouse = total_task_completion_times[total_task_completion_times[INPUT_TYPE] == INPUT_MOUSE]\n",
    "input_keyboard = total_task_completion_times[total_task_completion_times[INPUT_TYPE] == INPUT_KEYBOARD]\n",
    "\n",
    "task_a = total_task_completion_times[total_task_completion_times[TASK] == TASK_A]\n",
    "task_b = total_task_completion_times[total_task_completion_times[TASK] == TASK_B]\n",
    "task_c = total_task_completion_times[total_task_completion_times[TASK] == TASK_C]\n",
    "task_d = total_task_completion_times[total_task_completion_times[TASK] == TASK_D]"
   ]
  },
  {
   "cell_type": "markdown",
   "metadata": {},
   "source": [
    "\n",
    "## Compare estimates with real study\n",
    "<p style=\"text-align: center;\">Standard and own KLM time estimates for relevant operators</p>\n",
    "\n",
    "\n",
    "\n",
    "|Operator|standard time (s)|experiment time (s)\n",
    "|:-------|-----------------|-------------------\n",
    "|Keystroke (k)|0.28|0.28| \n",
    "|Pointing with mouse (p)|1.1|0.73|\n",
    "|Button press or release on mouse (b)|0.1|0.16|\n",
    "\n",
    "\n",
    "<p style=\"text-align: center;\"><br>Task completion time estimates for the four tasks including KLM operators</p>\n",
    "\n",
    "|Task|standard time (s)|experiment time (s)|KLM operators\n",
    "|:---|-----------------|-------------------|-------------|\n",
    "|A|66.3|53.55|51p51b51b|\n",
    "|B|14.28|14.28|51k|\n",
    "|C|19.5|15.75|15p15b15b|\n",
    "|D|5.04|5.04|18k|"
   ]
  },
  {
   "cell_type": "markdown",
   "metadata": {},
   "source": [
    "### Task completion times estimates were calculated with klm.py"
   ]
  },
  {
   "cell_type": "code",
   "execution_count": 72,
   "metadata": {},
   "outputs": [
    {
     "data": {
      "text/plain": [
       "{'A': 33.98, 'B': 13.33, 'C': 13.14, 'D': 9.14}"
      ]
     },
     "execution_count": 72,
     "metadata": {},
     "output_type": "execute_result"
    }
   ],
   "source": [
    "real_task_completion_times_mean = {TASK_A: round(task_a[TASK_COMPLETION_TIME].mean(), 2),\n",
    "                                   TASK_B: round(task_b[TASK_COMPLETION_TIME].mean(), 2),\n",
    "                                   TASK_C: round(task_c[TASK_COMPLETION_TIME].mean(), 2),\n",
    "                                   TASK_D: round(task_d[TASK_COMPLETION_TIME].mean(), 2)}\n",
    "real_task_completion_times_mean"
   ]
  },
  {
   "cell_type": "markdown",
   "metadata": {},
   "source": [
    "### Statistics for relevant tables"
   ]
  },
  {
   "cell_type": "code",
   "execution_count": 73,
   "metadata": {},
   "outputs": [
    {
     "data": {
      "text/html": [
       "<div>\n",
       "<style scoped>\n",
       "    .dataframe tbody tr th:only-of-type {\n",
       "        vertical-align: middle;\n",
       "    }\n",
       "\n",
       "    .dataframe tbody tr th {\n",
       "        vertical-align: top;\n",
       "    }\n",
       "\n",
       "    .dataframe thead th {\n",
       "        text-align: right;\n",
       "    }\n",
       "</style>\n",
       "<table border=\"1\" class=\"dataframe\">\n",
       "  <thead>\n",
       "    <tr style=\"text-align: right;\">\n",
       "      <th></th>\n",
       "      <th>participant_id</th>\n",
       "      <th>task_completion_time_in_s</th>\n",
       "    </tr>\n",
       "  </thead>\n",
       "  <tbody>\n",
       "    <tr>\n",
       "      <th>count</th>\n",
       "      <td>64.000000</td>\n",
       "      <td>64.000000</td>\n",
       "    </tr>\n",
       "    <tr>\n",
       "      <th>mean</th>\n",
       "      <td>8.500000</td>\n",
       "      <td>17.462656</td>\n",
       "    </tr>\n",
       "    <tr>\n",
       "      <th>std</th>\n",
       "      <td>4.646214</td>\n",
       "      <td>10.401639</td>\n",
       "    </tr>\n",
       "    <tr>\n",
       "      <th>min</th>\n",
       "      <td>1.000000</td>\n",
       "      <td>5.878000</td>\n",
       "    </tr>\n",
       "    <tr>\n",
       "      <th>25%</th>\n",
       "      <td>4.750000</td>\n",
       "      <td>10.472750</td>\n",
       "    </tr>\n",
       "    <tr>\n",
       "      <th>50%</th>\n",
       "      <td>8.500000</td>\n",
       "      <td>12.949500</td>\n",
       "    </tr>\n",
       "    <tr>\n",
       "      <th>75%</th>\n",
       "      <td>12.250000</td>\n",
       "      <td>27.710000</td>\n",
       "    </tr>\n",
       "    <tr>\n",
       "      <th>max</th>\n",
       "      <td>16.000000</td>\n",
       "      <td>42.432000</td>\n",
       "    </tr>\n",
       "  </tbody>\n",
       "</table>\n",
       "</div>"
      ],
      "text/plain": [
       "       participant_id  task_completion_time_in_s\n",
       "count       64.000000                  64.000000\n",
       "mean         8.500000                  17.462656\n",
       "std          4.646214                  10.401639\n",
       "min          1.000000                   5.878000\n",
       "25%          4.750000                  10.472750\n",
       "50%          8.500000                  12.949500\n",
       "75%         12.250000                  27.710000\n",
       "max         16.000000                  42.432000"
      ]
     },
     "execution_count": 73,
     "metadata": {},
     "output_type": "execute_result"
    }
   ],
   "source": [
    "total_task_completion_times.describe()"
   ]
  },
  {
   "cell_type": "code",
   "execution_count": 74,
   "metadata": {},
   "outputs": [
    {
     "data": {
      "text/html": [
       "<div>\n",
       "<style scoped>\n",
       "    .dataframe tbody tr th:only-of-type {\n",
       "        vertical-align: middle;\n",
       "    }\n",
       "\n",
       "    .dataframe tbody tr th {\n",
       "        vertical-align: top;\n",
       "    }\n",
       "\n",
       "    .dataframe thead th {\n",
       "        text-align: right;\n",
       "    }\n",
       "</style>\n",
       "<table border=\"1\" class=\"dataframe\">\n",
       "  <thead>\n",
       "    <tr style=\"text-align: right;\">\n",
       "      <th></th>\n",
       "      <th>participant_id</th>\n",
       "      <th>task_completion_time_in_s</th>\n",
       "    </tr>\n",
       "  </thead>\n",
       "  <tbody>\n",
       "    <tr>\n",
       "      <th>count</th>\n",
       "      <td>32.000000</td>\n",
       "      <td>32.000000</td>\n",
       "    </tr>\n",
       "    <tr>\n",
       "      <th>mean</th>\n",
       "      <td>8.500000</td>\n",
       "      <td>23.560000</td>\n",
       "    </tr>\n",
       "    <tr>\n",
       "      <th>std</th>\n",
       "      <td>4.683533</td>\n",
       "      <td>11.553443</td>\n",
       "    </tr>\n",
       "    <tr>\n",
       "      <th>min</th>\n",
       "      <td>1.000000</td>\n",
       "      <td>9.280000</td>\n",
       "    </tr>\n",
       "    <tr>\n",
       "      <th>25%</th>\n",
       "      <td>4.750000</td>\n",
       "      <td>11.173000</td>\n",
       "    </tr>\n",
       "    <tr>\n",
       "      <th>50%</th>\n",
       "      <td>8.500000</td>\n",
       "      <td>27.892000</td>\n",
       "    </tr>\n",
       "    <tr>\n",
       "      <th>75%</th>\n",
       "      <td>12.250000</td>\n",
       "      <td>33.016750</td>\n",
       "    </tr>\n",
       "    <tr>\n",
       "      <th>max</th>\n",
       "      <td>16.000000</td>\n",
       "      <td>42.432000</td>\n",
       "    </tr>\n",
       "  </tbody>\n",
       "</table>\n",
       "</div>"
      ],
      "text/plain": [
       "       participant_id  task_completion_time_in_s\n",
       "count       32.000000                  32.000000\n",
       "mean         8.500000                  23.560000\n",
       "std          4.683533                  11.553443\n",
       "min          1.000000                   9.280000\n",
       "25%          4.750000                  11.173000\n",
       "50%          8.500000                  27.892000\n",
       "75%         12.250000                  33.016750\n",
       "max         16.000000                  42.432000"
      ]
     },
     "execution_count": 74,
     "metadata": {},
     "output_type": "execute_result"
    }
   ],
   "source": [
    "input_mouse.describe()"
   ]
  },
  {
   "cell_type": "code",
   "execution_count": 75,
   "metadata": {},
   "outputs": [
    {
     "data": {
      "text/html": [
       "<div>\n",
       "<style scoped>\n",
       "    .dataframe tbody tr th:only-of-type {\n",
       "        vertical-align: middle;\n",
       "    }\n",
       "\n",
       "    .dataframe tbody tr th {\n",
       "        vertical-align: top;\n",
       "    }\n",
       "\n",
       "    .dataframe thead th {\n",
       "        text-align: right;\n",
       "    }\n",
       "</style>\n",
       "<table border=\"1\" class=\"dataframe\">\n",
       "  <thead>\n",
       "    <tr style=\"text-align: right;\">\n",
       "      <th></th>\n",
       "      <th>participant_id</th>\n",
       "      <th>task_completion_time_in_s</th>\n",
       "    </tr>\n",
       "  </thead>\n",
       "  <tbody>\n",
       "    <tr>\n",
       "      <th>count</th>\n",
       "      <td>32.000000</td>\n",
       "      <td>32.000000</td>\n",
       "    </tr>\n",
       "    <tr>\n",
       "      <th>mean</th>\n",
       "      <td>8.500000</td>\n",
       "      <td>11.365312</td>\n",
       "    </tr>\n",
       "    <tr>\n",
       "      <th>std</th>\n",
       "      <td>4.683533</td>\n",
       "      <td>3.105242</td>\n",
       "    </tr>\n",
       "    <tr>\n",
       "      <th>min</th>\n",
       "      <td>1.000000</td>\n",
       "      <td>5.878000</td>\n",
       "    </tr>\n",
       "    <tr>\n",
       "      <th>25%</th>\n",
       "      <td>4.750000</td>\n",
       "      <td>8.917250</td>\n",
       "    </tr>\n",
       "    <tr>\n",
       "      <th>50%</th>\n",
       "      <td>8.500000</td>\n",
       "      <td>12.152500</td>\n",
       "    </tr>\n",
       "    <tr>\n",
       "      <th>75%</th>\n",
       "      <td>12.250000</td>\n",
       "      <td>13.936750</td>\n",
       "    </tr>\n",
       "    <tr>\n",
       "      <th>max</th>\n",
       "      <td>16.000000</td>\n",
       "      <td>15.988000</td>\n",
       "    </tr>\n",
       "  </tbody>\n",
       "</table>\n",
       "</div>"
      ],
      "text/plain": [
       "       participant_id  task_completion_time_in_s\n",
       "count       32.000000                  32.000000\n",
       "mean         8.500000                  11.365312\n",
       "std          4.683533                   3.105242\n",
       "min          1.000000                   5.878000\n",
       "25%          4.750000                   8.917250\n",
       "50%          8.500000                  12.152500\n",
       "75%         12.250000                  13.936750\n",
       "max         16.000000                  15.988000"
      ]
     },
     "execution_count": 75,
     "metadata": {},
     "output_type": "execute_result"
    }
   ],
   "source": [
    "input_keyboard.describe()"
   ]
  },
  {
   "cell_type": "markdown",
   "metadata": {},
   "source": [
    "## Visualisation"
   ]
  },
  {
   "cell_type": "code",
   "execution_count": 76,
   "metadata": {},
   "outputs": [
    {
     "data": {
      "image/png": "[encoded data removed]",
      "text/plain": [
       "<Figure size 432x288 with 1 Axes>"
      ]
     },
     "metadata": {},
     "output_type": "display_data"
    }
   ],
   "source": [
    "box_plot_tasks = sns.boxplot(\n",
    "    data = total_task_completion_times,\n",
    "    x = TASK,\n",
    "    y = TASK_COMPLETION_TIME\n",
    ")\n",
    "\n",
    "box_plot_tasks.set(xlabel = TASK, ylabel = TASK_COMPLETION_TIME)\n",
    "plt.show()"
   ]
  },
  {
   "cell_type": "code",
   "execution_count": 77,
   "metadata": {},
   "outputs": [],
   "source": [
    "compare_task_times = pd.read_csv(\"study_results/compare_task_completion_times.csv\")"
   ]
  },
  {
   "cell_type": "code",
   "execution_count": 78,
   "metadata": {},
   "outputs": [
    {
     "data": {
      "text/html": [
       "<div>\n",
       "<style scoped>\n",
       "    .dataframe tbody tr th:only-of-type {\n",
       "        vertical-align: middle;\n",
       "    }\n",
       "\n",
       "    .dataframe tbody tr th {\n",
       "        vertical-align: top;\n",
       "    }\n",
       "\n",
       "    .dataframe thead th {\n",
       "        text-align: right;\n",
       "    }\n",
       "</style>\n",
       "<table border=\"1\" class=\"dataframe\">\n",
       "  <thead>\n",
       "    <tr style=\"text-align: right;\">\n",
       "      <th></th>\n",
       "      <th>measurement</th>\n",
       "      <th>task</th>\n",
       "      <th>task_completion_time_in_s</th>\n",
       "    </tr>\n",
       "  </thead>\n",
       "  <tbody>\n",
       "    <tr>\n",
       "      <th>0</th>\n",
       "      <td>klm_standard_estimates</td>\n",
       "      <td>A</td>\n",
       "      <td>66.30</td>\n",
       "    </tr>\n",
       "    <tr>\n",
       "      <th>1</th>\n",
       "      <td>klm_standard_estimates</td>\n",
       "      <td>B</td>\n",
       "      <td>14.28</td>\n",
       "    </tr>\n",
       "    <tr>\n",
       "      <th>2</th>\n",
       "      <td>klm_standard_estimates</td>\n",
       "      <td>C</td>\n",
       "      <td>19.50</td>\n",
       "    </tr>\n",
       "    <tr>\n",
       "      <th>3</th>\n",
       "      <td>klm_standard_estimates</td>\n",
       "      <td>D</td>\n",
       "      <td>5.04</td>\n",
       "    </tr>\n",
       "    <tr>\n",
       "      <th>4</th>\n",
       "      <td>klm_experiment_estimates</td>\n",
       "      <td>A</td>\n",
       "      <td>53.55</td>\n",
       "    </tr>\n",
       "    <tr>\n",
       "      <th>5</th>\n",
       "      <td>klm_experiment_estimates</td>\n",
       "      <td>B</td>\n",
       "      <td>14.28</td>\n",
       "    </tr>\n",
       "    <tr>\n",
       "      <th>6</th>\n",
       "      <td>klm_experiment_estimates</td>\n",
       "      <td>C</td>\n",
       "      <td>15.75</td>\n",
       "    </tr>\n",
       "    <tr>\n",
       "      <th>7</th>\n",
       "      <td>klm_experiment_estimates</td>\n",
       "      <td>D</td>\n",
       "      <td>5.04</td>\n",
       "    </tr>\n",
       "    <tr>\n",
       "      <th>8</th>\n",
       "      <td>real_task_completion_times_mean</td>\n",
       "      <td>A</td>\n",
       "      <td>33.98</td>\n",
       "    </tr>\n",
       "    <tr>\n",
       "      <th>9</th>\n",
       "      <td>real_task_completion_times_mean</td>\n",
       "      <td>B</td>\n",
       "      <td>13.33</td>\n",
       "    </tr>\n",
       "    <tr>\n",
       "      <th>10</th>\n",
       "      <td>real_task_completion_times_mean</td>\n",
       "      <td>C</td>\n",
       "      <td>13.14</td>\n",
       "    </tr>\n",
       "    <tr>\n",
       "      <th>11</th>\n",
       "      <td>real_task_completion_times_mean</td>\n",
       "      <td>D</td>\n",
       "      <td>9.14</td>\n",
       "    </tr>\n",
       "  </tbody>\n",
       "</table>\n",
       "</div>"
      ],
      "text/plain": [
       "                        measurement task  task_completion_time_in_s\n",
       "0            klm_standard_estimates    A                      66.30\n",
       "1            klm_standard_estimates    B                      14.28\n",
       "2            klm_standard_estimates    C                      19.50\n",
       "3            klm_standard_estimates    D                       5.04\n",
       "4          klm_experiment_estimates    A                      53.55\n",
       "5          klm_experiment_estimates    B                      14.28\n",
       "6          klm_experiment_estimates    C                      15.75\n",
       "7          klm_experiment_estimates    D                       5.04\n",
       "8   real_task_completion_times_mean    A                      33.98\n",
       "9   real_task_completion_times_mean    B                      13.33\n",
       "10  real_task_completion_times_mean    C                      13.14\n",
       "11  real_task_completion_times_mean    D                       9.14"
      ]
     },
     "execution_count": 78,
     "metadata": {},
     "output_type": "execute_result"
    }
   ],
   "source": [
    "compare_task_times"
   ]
  },
  {
   "cell_type": "code",
   "execution_count": 79,
   "metadata": {
    "scrolled": true
   },
   "outputs": [
    {
     "data": {
      "image/png": "[encoded data removed]",
      "text/plain": [
       "<Figure size 432x288 with 1 Axes>"
      ]
     },
     "metadata": {},
     "output_type": "display_data"
    }
   ],
   "source": [
    "sns.set_theme(style = \"whitegrid\")\n",
    "data_task_a = compare_task_times[compare_task_times[TASK] == TASK_A]\n",
    "ax = sns.barplot(x = data_task_a[\"measurement\"], y = data_task_a[TASK_COMPLETION_TIME], data = data_task_a)\n",
    "plt.xticks([0, 1, 2], ['standard', 'custom_set', 'experiment'])\n",
    "\n",
    "plt.show()"
   ]
  },
  {
   "cell_type": "code",
   "execution_count": 80,
   "metadata": {},
   "outputs": [
    {
     "data": {
      "image/png": "[encoded data removed]",
      "text/plain": [
       "<Figure size 432x288 with 1 Axes>"
      ]
     },
     "metadata": {},
     "output_type": "display_data"
    }
   ],
   "source": [
    "sns.set_theme(style = \"whitegrid\")\n",
    "data_task_b = compare_task_times[compare_task_times[TASK] == TASK_B]\n",
    "ax = sns.barplot(x = data_task_b[\"measurement\"], y = data_task_b[TASK_COMPLETION_TIME], data = data_task_b)\n",
    "plt.xticks([0, 1, 2], ['standard', 'custom_set', 'experiment'])\n",
    "\n",
    "plt.show()"
   ]
  },
  {
   "cell_type": "code",
   "execution_count": 66,
   "metadata": {},
   "outputs": [
    {
     "data": {
      "image/png": "[encoded data removed]",
      "text/plain": [
       "<Figure size 432x288 with 1 Axes>"
      ]
     },
     "metadata": {},
     "output_type": "display_data"
    }
   ],
   "source": [
    "sns.set_theme(style = \"whitegrid\")\n",
    "data_task_c = compare_task_times[compare_task_times[TASK] == TASK_C]\n",
    "ax = sns.barplot(x = data_task_c[\"measurement\"], y = data_task_c[TASK_COMPLETION_TIME], data = data_task_c)\n",
    "plt.xticks([0, 1, 2], ['standard', 'custom_set', 'experiment'])\n",
    "\n",
    "plt.show()"
   ]
  },
  {
   "cell_type": "code",
   "execution_count": 67,
   "metadata": {},
   "outputs": [
    {
     "data": {
      "image/png": "[encoded data removed]",
      "text/plain": [
       "<Figure size 432x288 with 1 Axes>"
      ]
     },
     "metadata": {},
     "output_type": "display_data"
    }
   ],
   "source": [
    "sns.set_theme(style = \"whitegrid\")\n",
    "data_task_d = compare_task_times[compare_task_times[TASK] == TASK_D]\n",
    "ax = sns.barplot(x = data_task_d[\"measurement\"], y = data_task_d[TASK_COMPLETION_TIME], data = data_task_d)\n",
    "plt.xticks([0, 1, 2], ['standard', 'custom_set', 'experiment'])\n",
    "\n",
    "plt.show()"
   ]
  },
  {
   "cell_type": "markdown",
   "metadata": {},
   "source": [
    "## Results"
   ]
  },
  {
   "cell_type": "markdown",
   "metadata": {},
   "source": []
  },
  {
   "cell_type": "markdown",
   "metadata": {},
   "source": [
    "## Discussion\n",
    "The results must be viewed critically because the number of participants was very low. In addition, due to the current situation, each participant did the study four times, which might have an influence on the variance of the data.\n",
    "\n",
    "We forgot to log the real task completion time so we had to calculate the task completion time from the first and the last timestamp. The time between the first timestamp and the start of the calculator program was not considered.\n"
   ]
  },
  {
   "cell_type": "code",
   "execution_count": null,
   "metadata": {},
   "outputs": [],
   "source": []
  }
 ],
 "metadata": {
  "kernelspec": {
   "display_name": "Python 3",
   "language": "python",
   "name": "python3"
  },
  "language_info": {
   "codemirror_mode": {
    "name": "ipython",
    "version": 3
   },
   "file_extension": ".py",
   "mimetype": "text/x-python",
   "name": "python",
   "nbconvert_exporter": "python",
   "pygments_lexer": "ipython3",
   "version": "3.9.2"
  }
 },
 "nbformat": 4,
 "nbformat_minor": 1
}
