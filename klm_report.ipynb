{
 "cells": [
  {
   "cell_type": "markdown",
   "metadata": {
    "collapsed": true
   },
   "source": [
    "# Predict and verify task completion times study\n",
    "### Author: Claudia, Sarah\n",
    "### Reviewer: Sarah"
   ]
  },
  {
   "cell_type": "markdown",
   "metadata": {},
   "source": [
    "## Test Design\n",
    "We conduct a study in which we measure the task completion time of four calculating tasks and compare them with our own KLM operator values and the ones from Card, Moran and Newell (1980). For this purpose, we created a calculator and used our result from our previous experiment which determined our KLM values. The study was performed at home with a AspireVX 15 notebook, an external keyboard (with numpad and Qwertz design) and a mouse to reduce distractions. \n",
    "\n",
    "The study has a within-subject design where each participant solved all the four tasks once to minimize learning effects. \n",
    "\n",
    "In order to mitigate confounding and random variables the tasks of the study were presented in a counter balanced order (see Balanced Latin Squares at https://cs.uwaterloo.ca/~dmasson/tools/latin_square/). \n",
    "\n",
    "### Tasks\n",
    "- adding the numbers from 1 to 20 using only the mouse\n",
    "- adding the numbers from 1 to 20 using only the keyboard\n",
    "- calculating the result of (3² + 4²) * 15.2 using only the mouse\n",
    "- calculating the result of (3² + 4²) * 15.2 using only the keyboard\n",
    "\n",
    "### Procedure\n",
    "First, the participant was asked about his/her age, occupation and his/her gender was noted. The procedure of the study was explained to him/her and any questions were clarified. \n",
    "Afterwards participants solved the tasks. \n",
    "For each task the calculator script was executed again to adjust the config file to make the analysis easier. The participant id, the task name, the input type, input value and the timestamp is logged."
   ]
  },
  {
   "cell_type": "markdown",
   "metadata": {},
   "source": [
    "### Participants\n",
    "Due to the current pandemic situation and limited time the selection of participants is limited.\n",
    "The study was conducted with four participants (3 female, 1 male). Among them was one media informatics student, one mathematics student, one international and cultural business study student and one pensioner with the ages of 18, 20, 22 and 68.\n",
    "Each participated once."
   ]
  },
  {
   "cell_type": "markdown",
   "metadata": {},
   "source": [
    "### Variables\n",
    "The dependent variable is the task completion time which is calculated from the logged timestamps. \n",
    "The independent variables are the tasks and the input type whether a mouse or keyboard was used.\n",
    "As control variables we document the keyboard, mouse and the global position of the window in the centre of the screen. "
   ]
  },
  {
   "cell_type": "markdown",
   "metadata": {},
   "source": [
    "# Analysis"
   ]
  },
  {
   "cell_type": "markdown",
   "metadata": {},
   "source": [
    "### Import all relevant libraries"
   ]
  },
  {
   "cell_type": "code",
   "execution_count": 1,
   "metadata": {},
   "outputs": [],
   "source": [
    "import pandas as pd\n",
    "import pingouin as pg\n",
    "import seaborn as sns\n",
    "from matplotlib import pyplot as plt"
   ]
  },
  {
   "cell_type": "markdown",
   "metadata": {},
   "source": [
    "### All csv column names and csv items that are used more than once as variables"
   ]
  },
  {
   "cell_type": "code",
   "execution_count": 2,
   "metadata": {},
   "outputs": [],
   "source": [
    "# column names\n",
    "PARTICIPANT_ID = \"participant_id\"\n",
    "TASK = \"task\"\n",
    "INPUT_TYPE = \"input_type\"\n",
    "TIMESTAMP = \"timestamp\"\n",
    "\n",
    "TASK_COMPLETION_TIME = \"task_completion_time_in_s\"  # TODO which unit?"
   ]
  },
  {
   "cell_type": "markdown",
   "metadata": {},
   "source": [
    "### Read csv files"
   ]
  },
  {
   "cell_type": "code",
   "execution_count": null,
   "metadata": {},
   "outputs": [],
   "source": [
    "raw_data_1_mouse_add = pd.read_csv(\"./1_mouse_add.csv\")\n",
    "raw_data_1_key_add = pd.read_csv(\"./1_key_add.csv\")\n",
    "raw_data_1_mouse_complex = pd.read_csv(\"./1_mouse_complex.csv\")\n",
    "raw_data_1_key_complex = pd.read_csv(\"./1_key_complex.csv\")\n",
    "\n",
    "raw_data_2_mouse_add = pd.read_csv(\"./2_mouse_add.csv\")\n",
    "raw_data_2_key_add = pd.read_csv(\"./2_key_add.csv\")\n",
    "raw_data_2_mouse_complex = pd.read_csv(\"./2_mouse_complex.csv\")\n",
    "raw_data_2_key_complex = pd.read_csv(\"./2_key_complex.csv\")\n",
    "\n",
    "raw_data_3_mouse_add = pd.read_csv(\"./3_mouse_add.csv\")\n",
    "raw_data_3_key_add = pd.read_csv(\"./3_key_add.csv\")\n",
    "raw_data_3_mouse_complex = pd.read_csv(\"./3_mouse_complex.csv\")\n",
    "raw_data_3_key_complex = pd.read_csv(\"./3_key_complex.csv\")\n",
    "\n",
    "raw_data_4_mouse_add = pd.read_csv(\"./4_mouse_add.csv\")\n",
    "raw_data_4_key_add = pd.read_csv(\"./4_key_add.csv\")\n",
    "raw_data_4_mouse_complex = pd.read_csv(\"./4_mouse_complex.csv\")\n",
    "raw_data_4_key_complex = pd.read_csv(\"./4_key_complex.csv\")"
   ]
  },
  {
   "cell_type": "markdown",
   "metadata": {},
   "source": [
    "### Combine the individual tables of the participants and save them"
   ]
  },
  {
   "cell_type": "code",
   "execution_count": null,
   "metadata": {},
   "outputs": [],
   "source": [
    "input_mouse = pd.concat([\n",
    "    raw_data_1_mouse_add,\n",
    "    raw_data_1_mouse_complex,\n",
    "    raw_data_2_mouse_add,\n",
    "    raw_data_2_mouse_complex,\n",
    "    raw_data_3_mouse_add,\n",
    "    raw_data_3_mouse_complex,\n",
    "    raw_data_4_mouse_add,\n",
    "    raw_data_4_mouse_complex\n",
    "])\n",
    "\n",
    "input_keyboard = pd.concat([\n",
    "    raw_data_1_key_add,\n",
    "    raw_data_1_key_complex,\n",
    "    raw_data_2_key_add,\n",
    "    raw_data_2_key_complex,\n",
    "    raw_data_3_key_add,\n",
    "    raw_data_3_key_complex,\n",
    "    raw_data_4_key_add,\n",
    "    raw_data_4_key_complex\n",
    "])\n",
    "\n",
    "input_mouse.to_csv(\"input_mouse.csv\", index=False)\n",
    "input_keyboard.to_csv(\"input_keyboard.csv\", index=False)"
   ]
  },
  {
   "cell_type": "code",
   "execution_count": null,
   "metadata": {},
   "outputs": [],
   "source": [
    "# whole data set\n",
    "task_completion = pd.concat([\n",
    "    input_mouse,\n",
    "    input_keyboard\n",
    "])\n",
    "\n",
    "task_completion"
   ]
  },
  {
   "cell_type": "markdown",
   "metadata": {},
   "source": [
    "### Statistics for relevant tables"
   ]
  },
  {
   "cell_type": "code",
   "execution_count": null,
   "metadata": {},
   "outputs": [],
   "source": [
    "task_completion.describe()"
   ]
  },
  {
   "cell_type": "code",
   "execution_count": null,
   "metadata": {},
   "outputs": [],
   "source": [
    "input_mouse.describe()"
   ]
  },
  {
   "cell_type": "code",
   "execution_count": null,
   "metadata": {},
   "outputs": [],
   "source": [
    "input_keyboard.describe()"
   ]
  },
  {
   "cell_type": "markdown",
   "metadata": {},
   "source": [
    "### Boxplots"
   ]
  },
  {
   "cell_type": "code",
   "execution_count": null,
   "metadata": {},
   "outputs": [],
   "source": [
    "# TODO comparision\n",
    "box_plot_input_type = sns.boxplot(\n",
    "    data=task_completion,\n",
    "    x=INPUT_TYPE,\n",
    "    y=TASK_COMPLETION_TIME\n",
    ")\n",
    "\n",
    "box_plot_input_type.set(xlabel=INPUT_TYPE, ylabel=TASK_COMPLETION_TIME)\n",
    "plt.show()"
   ]
  },
  {
   "cell_type": "markdown",
   "metadata": {},
   "source": [
    "### T-test"
   ]
  },
  {
   "cell_type": "code",
   "execution_count": null,
   "metadata": {},
   "outputs": [],
   "source": [
    "# pg.homoscedasticity(data=task_completion, dv=TASK_COMPLETION_TIME, group=INPUT_TYPE, method=\"bartlett\")\n",
    "# pg.normality(data=task_completion, dv=TASK_COMPLETION_TIME, group=INPUT_TYPE)\n",
    "# pg.welch_anova(data=task_completion, dv=TASK_COMPLETION_TIME, between=INPUT_TYPE)"
   ]
  },
  {
   "cell_type": "markdown",
   "metadata": {},
   "source": [
    "## Results"
   ]
  },
  {
   "cell_type": "markdown",
   "metadata": {},
   "source": [
    "## Discussion"
   ]
  }
 ],
 "metadata": {
  "kernelspec": {
   "display_name": "Python 3",
   "language": "python",
   "name": "python3"
  },
  "language_info": {
   "codemirror_mode": {
    "name": "ipython",
    "version": 3
   },
   "file_extension": ".py",
   "mimetype": "text/x-python",
   "name": "python",
   "nbconvert_exporter": "python",
   "pygments_lexer": "ipython3",
   "version": "3.9.2"
  }
 },
 "nbformat": 4,
 "nbformat_minor": 1
}
