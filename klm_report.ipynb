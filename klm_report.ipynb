{
 "cells": [
  {
   "cell_type": "markdown",
   "metadata": {
    "collapsed": true
   },
   "source": [
    "# Predict and verify task completion times study\n",
    "### Author: Claudia, Sarah\n",
    "### Reviewer: Sarah"
   ]
  },
  {
   "cell_type": "markdown",
   "metadata": {},
   "source": [
    "## Test Design\n",
    "We conduct a study in which we measure the task completion time of four calculating tasks and compare them with our own KLM operator values and the ones from Card, Moran and Newell (1980). For this purpose, we created a calculator and used our result from our previous experiment which determined our KLM values. The study was performed at home with a AspireVX 15 notebook, an external keyboard (with numpad and Qwertz design) and a mouse to reduce distractions. \n",
    "\n",
    "The study has a within-subject design where each participant solved all the four tasks once to minimize learning effects. \n",
    "\n",
    "In order to mitigate confounding and random variables the tasks of the study were presented in a counter balanced order (see Balanced Latin Squares at https://cs.uwaterloo.ca/~dmasson/tools/latin_square/). \n",
    "\n",
    "### Tasks\n",
    "- adding the numbers from 1 to 20 using only the mouse\n",
    "- adding the numbers from 1 to 20 using only the keyboard\n",
    "- calculating the result of (3² + 4²) * 15.2 using only the mouse\n",
    "- calculating the result of (3² + 4²) * 15.2 using only the keyboard\n",
    "\n",
    "### Procedure\n",
    "First, the participant was asked about his/her age, occupation and his/her gender was noted. The procedure of the study was explained to him/her and any questions were clarified. \n",
    "Afterwards participants solved the tasks. \n",
    "For each task the calculator script was executed again to adjust the config file to make the analysis easier. The participant id, the task name, the input type, input value and the timestamp is logged."
   ]
  },
  {
   "cell_type": "markdown",
   "metadata": {},
   "source": [
    "### Participants\n",
    "Due to the current pandemic situation and limited time the selection of participants is limited.\n",
    "The study was conducted with four participants (3 female, 1 male). Among them was one media informatics student, one mathematics student, one international and cultural business study student and one pensioner with the ages of 18, 20, 22 and 68.\n",
    "Each participated once."
   ]
  },
  {
   "cell_type": "markdown",
   "metadata": {},
   "source": [
    "### Variables\n",
    "The dependent variable is the task completion time which is calculated from the logged timestamps. \n",
    "The independent variables are the tasks and the input type whether a mouse or keyboard was used.\n",
    "As control variables we document the keyboard, mouse and the global position of the window in the centre of the screen. "
   ]
  },
  {
   "cell_type": "markdown",
   "metadata": {},
   "source": [
    "# Analysis"
   ]
  },
  {
   "cell_type": "markdown",
   "metadata": {},
   "source": [
    "### Import all relevant libraries"
   ]
  },
  {
   "cell_type": "code",
   "execution_count": 105,
   "metadata": {},
   "outputs": [],
   "source": [
    "import pandas as pd\n",
    "import numpy as np\n",
    "import pingouin as pg\n",
    "import seaborn as sns\n",
    "from matplotlib import pyplot as plt"
   ]
  },
  {
   "cell_type": "code",
   "execution_count": 106,
   "metadata": {},
   "outputs": [],
   "source": [
    "from PyQt5.QtCore import QDateTime\n",
    "from PyQt5.QtCore import Qt"
   ]
  },
  {
   "cell_type": "markdown",
   "metadata": {},
   "source": [
    "### All csv column names and csv items that are used more than once as variables"
   ]
  },
  {
   "cell_type": "code",
   "execution_count": 107,
   "metadata": {},
   "outputs": [],
   "source": [
    "# column names\n",
    "PARTICIPANT_ID = \"participant_id\"\n",
    "TASK = \"task\"\n",
    "INPUT_TYPE = \"input_type\"\n",
    "TIMESTAMP = \"timestamp\"\n",
    "\n",
    "TASK_COMPLETION_TIME = \"task_completion_time_in_ms\"  # TODO which unit?\n",
    "\n",
    "# some table values\n",
    "INPUT_MOUSE = \"button_clicked\"\n",
    "INPUT_KEYBOARD = \"key_pressed\""
   ]
  },
  {
   "cell_type": "markdown",
   "metadata": {},
   "source": [
    "### Read csv files"
   ]
  },
  {
   "cell_type": "markdown",
   "metadata": {},
   "source": [
    "## Calculate task completion time"
   ]
  },
  {
   "cell_type": "code",
   "execution_count": 108,
   "metadata": {},
   "outputs": [],
   "source": [
    "def calc_time_diff(data):\n",
    "    start_time = QDateTime.fromString(data[TIMESTAMP][0], Qt.ISODateWithMs)\n",
    "    start_time_in_ms = QDateTime.toMSecsSinceEpoch(start_time)\n",
    "    \n",
    "    number = len(data) - 1\n",
    "    end_time = QDateTime.fromString(data[TIMESTAMP][number], Qt.ISODateWithMs)\n",
    "    end_time_in_ms = QDateTime.toMSecsSinceEpoch(end_time)\n",
    "    \n",
    "    return end_time_in_ms - start_time_in_ms"
   ]
  },
  {
   "cell_type": "code",
   "execution_count": 109,
   "metadata": {},
   "outputs": [],
   "source": [
    "def update_table(new_table):\n",
    "    new_table[TASK_COMPLETION_TIME] = np.NaN\n",
    "    \n",
    "    new_table.loc[len(new_table) - 1, TASK_COMPLETION_TIME] = calc_time_diff(new_table)\n",
    "    new_table = new_table[new_table[TASK_COMPLETION_TIME].notna()][[PARTICIPANT_ID, TASK, INPUT_TYPE, TASK_COMPLETION_TIME]]\n",
    "    \n",
    "    return new_table"
   ]
  },
  {
   "cell_type": "code",
   "execution_count": 110,
   "metadata": {},
   "outputs": [
    {
     "data": {
      "text/html": [
       "<div>\n",
       "<style scoped>\n",
       "    .dataframe tbody tr th:only-of-type {\n",
       "        vertical-align: middle;\n",
       "    }\n",
       "\n",
       "    .dataframe tbody tr th {\n",
       "        vertical-align: top;\n",
       "    }\n",
       "\n",
       "    .dataframe thead th {\n",
       "        text-align: right;\n",
       "    }\n",
       "</style>\n",
       "<table border=\"1\" class=\"dataframe\">\n",
       "  <thead>\n",
       "    <tr style=\"text-align: right;\">\n",
       "      <th></th>\n",
       "      <th>participant_id</th>\n",
       "      <th>task</th>\n",
       "      <th>input_type</th>\n",
       "      <th>task_completion_time_in_ms</th>\n",
       "    </tr>\n",
       "  </thead>\n",
       "  <tbody>\n",
       "    <tr>\n",
       "      <th>50</th>\n",
       "      <td>1</td>\n",
       "      <td>A</td>\n",
       "      <td>button_clicked</td>\n",
       "      <td>41012.0</td>\n",
       "    </tr>\n",
       "  </tbody>\n",
       "</table>\n",
       "</div>"
      ],
      "text/plain": [
       "    participant_id task      input_type  task_completion_time_in_ms\n",
       "50               1    A  button_clicked                     41012.0"
      ]
     },
     "execution_count": 110,
     "metadata": {},
     "output_type": "execute_result"
    }
   ],
   "source": [
    "new_1_mouse_add = pd.read_csv(\"study_results/1_mouse_add.csv\")\n",
    "update_table(new_1_mouse_add)"
   ]
  },
  {
   "cell_type": "code",
   "execution_count": 111,
   "metadata": {},
   "outputs": [],
   "source": [
    "tables = {}\n",
    "all_tables = []\n",
    "for i in range (1, 17):  \n",
    "    # read in csv files\n",
    "    raw_data_mouse_add = pd.read_csv(\"study_results/{num}_mouse_add.csv\".format(num = i))\n",
    "    raw_data_mouse_complex = pd.read_csv(\"study_results/{num}_mouse_complex.csv\".format(num = i))\n",
    "    raw_data_key_add = pd.read_csv(\"study_results/{num}_key_add.csv\".format(num = i))\n",
    "    raw_data_key_complex = pd.read_csv(\"study_results/{num}_key_complex.csv\".format(num = i))\n",
    "    \n",
    "    # TODO append the raw data to all_raw_tables\n",
    "    all_tables.append(raw_data_mouse_add)\n",
    "    all_tables.append(raw_data_mouse_complex)\n",
    "    all_tables.append(raw_data_key_add)\n",
    "    all_tables.append(raw_data_key_complex)\n",
    "    \n",
    "    # generate table new tables\n",
    "    new_table_name_mouse_add = \"time_diff_mouse_add_{num}\".format(num = i)\n",
    "    tables[new_table_name_mouse_add] = raw_data_mouse_add  \n",
    "    \n",
    "    new_table_name_mouse_complex = \"time_diff_mouse_complex_{num}\".format(num = i)\n",
    "    tables[new_table_name_mouse_complex] = raw_data_mouse_complex  \n",
    "    \n",
    "    new_table_name_key_add = \"time_diff_key_add_{num}\".format(num = i)\n",
    "    tables[new_table_name_key_add] = raw_data_key_add \n",
    "    \n",
    "    new_table_name_key_complex = \"time_diff_key_complex_{num}\".format(num = i)\n",
    "    tables[new_table_name_key_complex] = raw_data_key_complex  \n",
    "    \n",
    "    \n",
    "    # calculate time difference and filter data\n",
    "    tables[new_table_name_mouse_add] = update_table(tables[new_table_name_mouse_add])\n",
    "    tables[new_table_name_mouse_complex] = update_table(tables[new_table_name_mouse_complex])\n",
    "    tables[new_table_name_key_add] = update_table(tables[new_table_name_key_add])\n",
    "    tables[new_table_name_key_complex] = update_table(tables[new_table_name_key_complex])"
   ]
  },
  {
   "cell_type": "markdown",
   "metadata": {},
   "source": [
    "### Combine tables and filter them"
   ]
  },
  {
   "cell_type": "code",
   "execution_count": 112,
   "metadata": {},
   "outputs": [],
   "source": [
    "# whole dataset\n",
    "df_all_tables = pd.concat(all_tables)\n",
    "df_all_tables.to_csv(\"all_results.csv\", index=False)\n",
    "\n",
    "input_mouse = df_all_tables[df_all_tables[INPUT_TYPE] == INPUT_MOUSE]\n",
    "\n",
    "input_keyboard = df_all_tables[df_all_tables[INPUT_TYPE] == INPUT_KEYBOARD]\n",
    "\n",
    "# TODO do we need those dataframes?\n",
    "task_a = df_all_tables[df_all_tables[TASK] == 'A']\n",
    "task_b = df_all_tables[df_all_tables[TASK] == 'B']\n",
    "task_c = df_all_tables[df_all_tables[TASK] == 'C']\n",
    "task_d = df_all_tables[df_all_tables[TASK] == 'D']"
   ]
  },
  {
   "cell_type": "markdown",
   "metadata": {},
   "source": [
    "### Statistics for relevant tables"
   ]
  },
  {
   "cell_type": "code",
   "execution_count": 113,
   "metadata": {},
   "outputs": [
    {
     "data": {
      "text/html": [
       "<div>\n",
       "<style scoped>\n",
       "    .dataframe tbody tr th:only-of-type {\n",
       "        vertical-align: middle;\n",
       "    }\n",
       "\n",
       "    .dataframe tbody tr th {\n",
       "        vertical-align: top;\n",
       "    }\n",
       "\n",
       "    .dataframe thead th {\n",
       "        text-align: right;\n",
       "    }\n",
       "</style>\n",
       "<table border=\"1\" class=\"dataframe\">\n",
       "  <thead>\n",
       "    <tr style=\"text-align: right;\">\n",
       "      <th></th>\n",
       "      <th>participant_id</th>\n",
       "      <th>task_completion_time_in_ms</th>\n",
       "    </tr>\n",
       "  </thead>\n",
       "  <tbody>\n",
       "    <tr>\n",
       "      <th>count</th>\n",
       "      <td>2151.000000</td>\n",
       "      <td>64.000000</td>\n",
       "    </tr>\n",
       "    <tr>\n",
       "      <th>mean</th>\n",
       "      <td>8.426778</td>\n",
       "      <td>17462.656250</td>\n",
       "    </tr>\n",
       "    <tr>\n",
       "      <th>std</th>\n",
       "      <td>4.640881</td>\n",
       "      <td>10401.639242</td>\n",
       "    </tr>\n",
       "    <tr>\n",
       "      <th>min</th>\n",
       "      <td>1.000000</td>\n",
       "      <td>5878.000000</td>\n",
       "    </tr>\n",
       "    <tr>\n",
       "      <th>25%</th>\n",
       "      <td>4.000000</td>\n",
       "      <td>10472.750000</td>\n",
       "    </tr>\n",
       "    <tr>\n",
       "      <th>50%</th>\n",
       "      <td>8.000000</td>\n",
       "      <td>12949.500000</td>\n",
       "    </tr>\n",
       "    <tr>\n",
       "      <th>75%</th>\n",
       "      <td>12.000000</td>\n",
       "      <td>27710.000000</td>\n",
       "    </tr>\n",
       "    <tr>\n",
       "      <th>max</th>\n",
       "      <td>16.000000</td>\n",
       "      <td>42432.000000</td>\n",
       "    </tr>\n",
       "  </tbody>\n",
       "</table>\n",
       "</div>"
      ],
      "text/plain": [
       "       participant_id  task_completion_time_in_ms\n",
       "count     2151.000000                   64.000000\n",
       "mean         8.426778                17462.656250\n",
       "std          4.640881                10401.639242\n",
       "min          1.000000                 5878.000000\n",
       "25%          4.000000                10472.750000\n",
       "50%          8.000000                12949.500000\n",
       "75%         12.000000                27710.000000\n",
       "max         16.000000                42432.000000"
      ]
     },
     "execution_count": 113,
     "metadata": {},
     "output_type": "execute_result"
    }
   ],
   "source": [
    "task_completion.describe()"
   ]
  },
  {
   "cell_type": "code",
   "execution_count": 114,
   "metadata": {},
   "outputs": [
    {
     "data": {
      "text/html": [
       "<div>\n",
       "<style scoped>\n",
       "    .dataframe tbody tr th:only-of-type {\n",
       "        vertical-align: middle;\n",
       "    }\n",
       "\n",
       "    .dataframe tbody tr th {\n",
       "        vertical-align: top;\n",
       "    }\n",
       "\n",
       "    .dataframe thead th {\n",
       "        text-align: right;\n",
       "    }\n",
       "</style>\n",
       "<table border=\"1\" class=\"dataframe\">\n",
       "  <thead>\n",
       "    <tr style=\"text-align: right;\">\n",
       "      <th></th>\n",
       "      <th>participant_id</th>\n",
       "      <th>task_completion_time_in_ms</th>\n",
       "    </tr>\n",
       "  </thead>\n",
       "  <tbody>\n",
       "    <tr>\n",
       "      <th>count</th>\n",
       "      <td>1075.000000</td>\n",
       "      <td>32.000000</td>\n",
       "    </tr>\n",
       "    <tr>\n",
       "      <th>mean</th>\n",
       "      <td>8.426047</td>\n",
       "      <td>23560.000000</td>\n",
       "    </tr>\n",
       "    <tr>\n",
       "      <th>std</th>\n",
       "      <td>4.630768</td>\n",
       "      <td>11553.442939</td>\n",
       "    </tr>\n",
       "    <tr>\n",
       "      <th>min</th>\n",
       "      <td>1.000000</td>\n",
       "      <td>9280.000000</td>\n",
       "    </tr>\n",
       "    <tr>\n",
       "      <th>25%</th>\n",
       "      <td>4.000000</td>\n",
       "      <td>11173.000000</td>\n",
       "    </tr>\n",
       "    <tr>\n",
       "      <th>50%</th>\n",
       "      <td>8.000000</td>\n",
       "      <td>27892.000000</td>\n",
       "    </tr>\n",
       "    <tr>\n",
       "      <th>75%</th>\n",
       "      <td>12.000000</td>\n",
       "      <td>33016.750000</td>\n",
       "    </tr>\n",
       "    <tr>\n",
       "      <th>max</th>\n",
       "      <td>16.000000</td>\n",
       "      <td>42432.000000</td>\n",
       "    </tr>\n",
       "  </tbody>\n",
       "</table>\n",
       "</div>"
      ],
      "text/plain": [
       "       participant_id  task_completion_time_in_ms\n",
       "count     1075.000000                   32.000000\n",
       "mean         8.426047                23560.000000\n",
       "std          4.630768                11553.442939\n",
       "min          1.000000                 9280.000000\n",
       "25%          4.000000                11173.000000\n",
       "50%          8.000000                27892.000000\n",
       "75%         12.000000                33016.750000\n",
       "max         16.000000                42432.000000"
      ]
     },
     "execution_count": 114,
     "metadata": {},
     "output_type": "execute_result"
    }
   ],
   "source": [
    "input_mouse.describe()"
   ]
  },
  {
   "cell_type": "code",
   "execution_count": 115,
   "metadata": {},
   "outputs": [
    {
     "data": {
      "text/html": [
       "<div>\n",
       "<style scoped>\n",
       "    .dataframe tbody tr th:only-of-type {\n",
       "        vertical-align: middle;\n",
       "    }\n",
       "\n",
       "    .dataframe tbody tr th {\n",
       "        vertical-align: top;\n",
       "    }\n",
       "\n",
       "    .dataframe thead th {\n",
       "        text-align: right;\n",
       "    }\n",
       "</style>\n",
       "<table border=\"1\" class=\"dataframe\">\n",
       "  <thead>\n",
       "    <tr style=\"text-align: right;\">\n",
       "      <th></th>\n",
       "      <th>participant_id</th>\n",
       "      <th>task_completion_time_in_ms</th>\n",
       "    </tr>\n",
       "  </thead>\n",
       "  <tbody>\n",
       "    <tr>\n",
       "      <th>count</th>\n",
       "      <td>1076.000000</td>\n",
       "      <td>32.000000</td>\n",
       "    </tr>\n",
       "    <tr>\n",
       "      <th>mean</th>\n",
       "      <td>8.427509</td>\n",
       "      <td>11365.312500</td>\n",
       "    </tr>\n",
       "    <tr>\n",
       "      <th>std</th>\n",
       "      <td>4.653116</td>\n",
       "      <td>3105.242315</td>\n",
       "    </tr>\n",
       "    <tr>\n",
       "      <th>min</th>\n",
       "      <td>1.000000</td>\n",
       "      <td>5878.000000</td>\n",
       "    </tr>\n",
       "    <tr>\n",
       "      <th>25%</th>\n",
       "      <td>4.000000</td>\n",
       "      <td>8917.250000</td>\n",
       "    </tr>\n",
       "    <tr>\n",
       "      <th>50%</th>\n",
       "      <td>8.000000</td>\n",
       "      <td>12152.500000</td>\n",
       "    </tr>\n",
       "    <tr>\n",
       "      <th>75%</th>\n",
       "      <td>12.000000</td>\n",
       "      <td>13936.750000</td>\n",
       "    </tr>\n",
       "    <tr>\n",
       "      <th>max</th>\n",
       "      <td>16.000000</td>\n",
       "      <td>15988.000000</td>\n",
       "    </tr>\n",
       "  </tbody>\n",
       "</table>\n",
       "</div>"
      ],
      "text/plain": [
       "       participant_id  task_completion_time_in_ms\n",
       "count     1076.000000                   32.000000\n",
       "mean         8.427509                11365.312500\n",
       "std          4.653116                 3105.242315\n",
       "min          1.000000                 5878.000000\n",
       "25%          4.000000                 8917.250000\n",
       "50%          8.000000                12152.500000\n",
       "75%         12.000000                13936.750000\n",
       "max         16.000000                15988.000000"
      ]
     },
     "execution_count": 115,
     "metadata": {},
     "output_type": "execute_result"
    }
   ],
   "source": [
    "input_keyboard.describe()"
   ]
  },
  {
   "cell_type": "code",
   "execution_count": null,
   "metadata": {},
   "outputs": [],
   "source": []
  },
  {
   "cell_type": "markdown",
   "metadata": {},
   "source": [
    "### Boxplots"
   ]
  },
  {
   "cell_type": "code",
   "execution_count": 116,
   "metadata": {},
   "outputs": [
    {
     "data": {
      "image/png": "[encoded data removed]",
      "text/plain": [
       "<Figure size 432x288 with 1 Axes>"
      ]
     },
     "metadata": {
      "needs_background": "light"
     },
     "output_type": "display_data"
    }
   ],
   "source": [
    "# TODO comparision\n",
    "box_plot_input_type = sns.boxplot(\n",
    "    data=task_completion,\n",
    "    x=INPUT_TYPE,\n",
    "    y=TASK_COMPLETION_TIME\n",
    ")\n",
    "\n",
    "box_plot_input_type.set(xlabel=INPUT_TYPE, ylabel=TASK_COMPLETION_TIME)\n",
    "plt.show()"
   ]
  },
  {
   "cell_type": "markdown",
   "metadata": {},
   "source": [
    "### T-test"
   ]
  },
  {
   "cell_type": "code",
   "execution_count": 117,
   "metadata": {},
   "outputs": [],
   "source": [
    "# pg.homoscedasticity(data=task_completion, dv=TASK_COMPLETION_TIME, group=INPUT_TYPE, method=\"bartlett\")\n",
    "# pg.normality(data=task_completion, dv=TASK_COMPLETION_TIME, group=INPUT_TYPE)\n",
    "# pg.welch_anova(data=task_completion, dv=TASK_COMPLETION_TIME, between=INPUT_TYPE)"
   ]
  },
  {
   "cell_type": "markdown",
   "metadata": {},
   "source": [
    "## Results"
   ]
  },
  {
   "cell_type": "markdown",
   "metadata": {},
   "source": [
    "## Discussion"
   ]
  }
 ],
 "metadata": {
  "kernelspec": {
   "display_name": "Python 3",
   "language": "python",
   "name": "python3"
  },
  "language_info": {
   "codemirror_mode": {
    "name": "ipython",
    "version": 3
   },
   "file_extension": ".py",
   "mimetype": "text/x-python",
   "name": "python",
   "nbconvert_exporter": "python",
   "pygments_lexer": "ipython3",
   "version": "3.9.2"
  }
 },
 "nbformat": 4,
 "nbformat_minor": 1
}
