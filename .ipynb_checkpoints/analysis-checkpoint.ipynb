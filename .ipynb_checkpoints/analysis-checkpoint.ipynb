{
 "cells": [
  {
   "cell_type": "markdown",
   "metadata": {},
   "source": [
    "# Determine KLM Operators\n",
    "### Author: Sarah\n",
    "### Reviewer: Claudia"
   ]
  },
  {
   "cell_type": "markdown",
   "metadata": {},
   "source": [
    "## Structured Analysis\n",
    "### Import all relevant libraries"
   ]
  },
  {
   "cell_type": "code",
   "execution_count": 5,
   "metadata": {},
   "outputs": [
    {
     "name": "stdout",
     "output_type": "stream",
     "text": [
      "Requirement already satisfied: pingouin in /home/sarah/.local/lib/python3.9/site-packages (0.3.11)\n",
      "Requirement already satisfied: pandas>=0.24 in /usr/lib/python3/dist-packages (from pingouin) (1.1.5)\n",
      "Requirement already satisfied: statsmodels>=0.10.0 in /home/sarah/.local/lib/python3.9/site-packages (from pingouin) (0.12.2)\n",
      "Requirement already satisfied: scipy>=1.3 in /usr/lib/python3/dist-packages (from pingouin) (1.6.0)\n",
      "Requirement already satisfied: seaborn>=0.9.0 in /home/sarah/.local/lib/python3.9/site-packages (from pingouin) (0.11.1)\n",
      "Requirement already satisfied: tabulate in /home/sarah/.local/lib/python3.9/site-packages (from pingouin) (0.8.9)\n",
      "Requirement already satisfied: outdated in /home/sarah/.local/lib/python3.9/site-packages (from pingouin) (0.2.1)\n",
      "Requirement already satisfied: pandas-flavor>=0.1.2 in /home/sarah/.local/lib/python3.9/site-packages (from pingouin) (0.2.0)\n",
      "Requirement already satisfied: numpy>=1.15 in /usr/lib/python3/dist-packages (from pingouin) (1.19.5)\n",
      "Requirement already satisfied: matplotlib>=3.0.2 in /usr/lib/python3/dist-packages (from pingouin) (3.3.4)\n",
      "Requirement already satisfied: scikit-learn in /usr/lib/python3/dist-packages (from pingouin) (0.23.2)\n",
      "Requirement already satisfied: xarray in /home/sarah/.local/lib/python3.9/site-packages (from pandas-flavor>=0.1.2->pingouin) (0.17.0)\n",
      "Requirement already satisfied: patsy>=0.5 in /home/sarah/.local/lib/python3.9/site-packages (from statsmodels>=0.10.0->pingouin) (0.5.1)\n",
      "Requirement already satisfied: six in /usr/lib/python3/dist-packages (from patsy>=0.5->statsmodels>=0.10.0->pingouin) (1.16.0)\n",
      "Requirement already satisfied: requests in /usr/lib/python3/dist-packages (from outdated->pingouin) (2.25.1)\n",
      "Requirement already satisfied: littleutils in /home/sarah/.local/lib/python3.9/site-packages (from outdated->pingouin) (0.2.2)\n",
      "Requirement already satisfied: setuptools>=40.4 in /usr/lib/python3/dist-packages (from xarray->pandas-flavor>=0.1.2->pingouin) (52.0.0)\n"
     ]
    }
   ],
   "source": [
    "!pip3 install pingouin"
   ]
  },
  {
   "cell_type": "code",
   "execution_count": 6,
   "metadata": {},
   "outputs": [],
   "source": [
    "import pandas as pd\n",
    "import pingouin as pg\n",
    "import seaborn as sns\n",
    "from matplotlib import pyplot as plt"
   ]
  },
  {
   "cell_type": "markdown",
   "metadata": {},
   "source": [
    "## K-Operator\n",
    "In order to calculate the time for pressing a key, one key (e.g. 8) is pressed ten times in succession.\n",
    "This is repaeted ten times.\n",
    "The timestamp is logged, when a key is pressed."
   ]
  },
  {
   "cell_type": "markdown",
   "metadata": {},
   "source": [
    "### Read csv file"
   ]
  },
  {
   "cell_type": "code",
   "execution_count": 7,
   "metadata": {},
   "outputs": [],
   "source": [
    "# raw_data_k_operator = pd.read_csv(\"./k_operator.csv\", sep=';', engine='python')"
   ]
  },
  {
   "cell_type": "markdown",
   "metadata": {},
   "source": [
    "### Calculate time for one K\n",
    "For calculation the first timestamp is ignored, because you need time for orientation.\n",
    "The time difference between the last and the second timestamp is calculated.\n",
    "The result is divided by the number of keystrokes (equal to the length of the dataframe) minus one to get the time for one keystroke. "
   ]
  },
  {
   "cell_type": "code",
   "execution_count": null,
   "metadata": {},
   "outputs": [],
   "source": []
  },
  {
   "cell_type": "markdown",
   "metadata": {},
   "source": [
    "## B-Operator\n",
    "To calculate the button click, the same button is pressed ten times in a row. \n",
    "This is repeated for ten times.\n",
    "In this case, it was logged when a button is clicked (press + relaese)."
   ]
  },
  {
   "cell_type": "markdown",
   "metadata": {},
   "source": [
    "### Read csv file"
   ]
  },
  {
   "cell_type": "code",
   "execution_count": 8,
   "metadata": {},
   "outputs": [],
   "source": [
    "#raw_data_b_operator = pd.read_csv(\"./b_operator.csv\", sep=';', engine='python')"
   ]
  },
  {
   "cell_type": "markdown",
   "metadata": {
    "scrolled": false
   },
   "source": [
    "### Calculate time for one B\n",
    "The first timestamp is ignored as before.\n",
    "The time difference between the last and the second timestamp is calculated.\n",
    "The result is divided by the number of button press and relaese (equal to the length of the dataframe) minus one.\n",
    "To get the time for one button press or release the result is divided by two. "
   ]
  },
  {
   "cell_type": "code",
   "execution_count": null,
   "metadata": {},
   "outputs": [],
   "source": [
    "\n"
   ]
  },
  {
   "cell_type": "markdown",
   "metadata": {},
   "source": [
    "## P-Operator\n",
    "To calculate the pointing of the mouse, the mouse pointer is moved to each button in arbitrary order. \n",
    "This is repeated ten times.\n",
    "Each time a button is reached the timestamp is logged."
   ]
  },
  {
   "cell_type": "markdown",
   "metadata": {},
   "source": [
    "### Read csv file"
   ]
  },
  {
   "cell_type": "code",
   "execution_count": 9,
   "metadata": {},
   "outputs": [],
   "source": [
    "#raw_data_p_operator = pd.read_csv(\"./p_operator.csv\", sep=';', engine='python')"
   ]
  },
  {
   "cell_type": "markdown",
   "metadata": {},
   "source": [
    "### Calculate time for one P\n",
    "The first timestamp is ignored as before.\n",
    "The time difference between the last and the second timestamp is calculated and divided by the number of movements plus one to get the time for one P."
   ]
  },
  {
   "cell_type": "code",
   "execution_count": null,
   "metadata": {},
   "outputs": [],
   "source": []
  },
  {
   "cell_type": "markdown",
   "metadata": {},
   "source": [
    "## H-Operator\n",
    "To calculate the time for switching between keyboard and mouse, ???\n",
    "This is repeated 10 times."
   ]
  },
  {
   "cell_type": "markdown",
   "metadata": {},
   "source": [
    "### Read csv file"
   ]
  },
  {
   "cell_type": "code",
   "execution_count": null,
   "metadata": {},
   "outputs": [],
   "source": []
  },
  {
   "cell_type": "markdown",
   "metadata": {},
   "source": [
    "### Calculate time for one H\n",
    "The first timestamp is ignored as before.\n",
    "The time difference between the last and the second timestamp is calculated.\n"
   ]
  },
  {
   "cell_type": "code",
   "execution_count": null,
   "metadata": {},
   "outputs": [],
   "source": []
  }
 ],
 "metadata": {
  "kernelspec": {
   "display_name": "Python 3",
   "language": "python",
   "name": "python3"
  },
  "language_info": {
   "codemirror_mode": {
    "name": "ipython",
    "version": 3
   },
   "file_extension": ".py",
   "mimetype": "text/x-python",
   "name": "python",
   "nbconvert_exporter": "python",
   "pygments_lexer": "ipython3",
   "version": "3.9.2"
  }
 },
 "nbformat": 4,
 "nbformat_minor": 1
}
