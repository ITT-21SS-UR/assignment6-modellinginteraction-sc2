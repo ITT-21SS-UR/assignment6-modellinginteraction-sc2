{
 "cells": [
  {
   "cell_type": "markdown",
   "metadata": {},
   "source": [
    "# Determine KLM Operators\n",
    "### Author: Sarah, Claudia\n",
    "### Reviewer: Claudia"
   ]
  },
  {
   "cell_type": "markdown",
   "metadata": {},
   "source": [
    "## Structured Analysis\n",
    "### Import all relevant libraries"
   ]
  },
  {
   "cell_type": "code",
   "execution_count": 1,
   "metadata": {},
   "outputs": [
    {
     "name": "stdout",
     "output_type": "stream",
     "text": [
      "Requirement already satisfied: pingouin in /home/sarah/.local/lib/python3.9/site-packages (0.3.11)\n",
      "Requirement already satisfied: pandas>=0.24 in /usr/lib/python3/dist-packages (from pingouin) (1.1.5)\n",
      "Requirement already satisfied: outdated in /home/sarah/.local/lib/python3.9/site-packages (from pingouin) (0.2.1)\n",
      "Requirement already satisfied: matplotlib>=3.0.2 in /usr/lib/python3/dist-packages (from pingouin) (3.3.4)\n",
      "Requirement already satisfied: statsmodels>=0.10.0 in /home/sarah/.local/lib/python3.9/site-packages (from pingouin) (0.12.2)\n",
      "Requirement already satisfied: seaborn>=0.9.0 in /home/sarah/.local/lib/python3.9/site-packages (from pingouin) (0.11.1)\n",
      "Requirement already satisfied: numpy>=1.15 in /usr/lib/python3/dist-packages (from pingouin) (1.19.5)\n",
      "Requirement already satisfied: pandas-flavor>=0.1.2 in /home/sarah/.local/lib/python3.9/site-packages (from pingouin) (0.2.0)\n",
      "Requirement already satisfied: tabulate in /home/sarah/.local/lib/python3.9/site-packages (from pingouin) (0.8.9)\n",
      "Requirement already satisfied: scipy>=1.3 in /usr/lib/python3/dist-packages (from pingouin) (1.6.0)\n",
      "Requirement already satisfied: scikit-learn in /usr/lib/python3/dist-packages (from pingouin) (0.23.2)\n",
      "Requirement already satisfied: xarray in /home/sarah/.local/lib/python3.9/site-packages (from pandas-flavor>=0.1.2->pingouin) (0.17.0)\n",
      "Requirement already satisfied: patsy>=0.5 in /home/sarah/.local/lib/python3.9/site-packages (from statsmodels>=0.10.0->pingouin) (0.5.1)\n",
      "Requirement already satisfied: six in /usr/lib/python3/dist-packages (from patsy>=0.5->statsmodels>=0.10.0->pingouin) (1.16.0)\n",
      "Requirement already satisfied: requests in /usr/lib/python3/dist-packages (from outdated->pingouin) (2.25.1)\n",
      "Requirement already satisfied: littleutils in /home/sarah/.local/lib/python3.9/site-packages (from outdated->pingouin) (0.2.2)\n",
      "Requirement already satisfied: setuptools>=40.4 in /usr/lib/python3/dist-packages (from xarray->pandas-flavor>=0.1.2->pingouin) (52.0.0)\n"
     ]
    }
   ],
   "source": [
    "!pip3 install pingouin"
   ]
  },
  {
   "cell_type": "code",
   "execution_count": 20,
   "metadata": {},
   "outputs": [],
   "source": [
    "import pandas as pd\n",
    "import pingouin as pg\n",
    "import seaborn as sns\n",
    "from matplotlib import pyplot as plt"
   ]
  },
  {
   "cell_type": "code",
   "execution_count": 21,
   "metadata": {},
   "outputs": [],
   "source": [
    "from PyQt5.QtCore import QDateTime\n",
    "from PyQt5.QtCore import Qt"
   ]
  },
  {
   "cell_type": "markdown",
   "metadata": {},
   "source": [
    "## Function for calculating time difference"
   ]
  },
  {
   "cell_type": "code",
   "execution_count": 22,
   "metadata": {},
   "outputs": [],
   "source": [
    "def calc_time_diff(data):\n",
    "    start_time = QDateTime.fromString(data[\"timestamp\"][1], Qt.ISODateWithMs)\n",
    "    start_time_in_mm = QDateTime.toMSecsSinceEpoch(start_time)\n",
    "    \n",
    "    number = len(data) - 1\n",
    "    end_time = QDateTime.fromString(data[\"timestamp\"][number], Qt.ISODateWithMs)\n",
    "    end_time_in_mm = QDateTime.toMSecsSinceEpoch(end_time)\n",
    "    \n",
    "    return end_time_in_mm - start_time_in_mm"
   ]
  },
  {
   "cell_type": "markdown",
   "metadata": {},
   "source": [
    "## K-Operator\n",
    "In order to calculate the time for a keystroke, one key (1) is pressed 100 times in succession.\n",
    "The timestamp is logged when a key is pressed."
   ]
  },
  {
   "cell_type": "markdown",
   "metadata": {},
   "source": [
    "### Read csv file"
   ]
  },
  {
   "cell_type": "code",
   "execution_count": 23,
   "metadata": {},
   "outputs": [],
   "source": [
    "raw_data_keystroke = pd.read_csv(\"klm_csv/keystroke.csv\")"
   ]
  },
  {
   "cell_type": "code",
   "execution_count": 24,
   "metadata": {},
   "outputs": [
    {
     "data": {
      "text/html": [
       "<div>\n",
       "<style scoped>\n",
       "    .dataframe tbody tr th:only-of-type {\n",
       "        vertical-align: middle;\n",
       "    }\n",
       "\n",
       "    .dataframe tbody tr th {\n",
       "        vertical-align: top;\n",
       "    }\n",
       "\n",
       "    .dataframe thead th {\n",
       "        text-align: right;\n",
       "    }\n",
       "</style>\n",
       "<table border=\"1\" class=\"dataframe\">\n",
       "  <thead>\n",
       "    <tr style=\"text-align: right;\">\n",
       "      <th></th>\n",
       "      <th>input_type</th>\n",
       "      <th>input_value</th>\n",
       "      <th>timestamp</th>\n",
       "    </tr>\n",
       "  </thead>\n",
       "  <tbody>\n",
       "    <tr>\n",
       "      <th>0</th>\n",
       "      <td>key_pressed</td>\n",
       "      <td>1</td>\n",
       "      <td>2021-05-21 19:35:57.603895</td>\n",
       "    </tr>\n",
       "    <tr>\n",
       "      <th>1</th>\n",
       "      <td>key_pressed</td>\n",
       "      <td>1</td>\n",
       "      <td>2021-05-21 19:35:57.860989</td>\n",
       "    </tr>\n",
       "    <tr>\n",
       "      <th>2</th>\n",
       "      <td>key_pressed</td>\n",
       "      <td>1</td>\n",
       "      <td>2021-05-21 19:35:58.157107</td>\n",
       "    </tr>\n",
       "    <tr>\n",
       "      <th>3</th>\n",
       "      <td>key_pressed</td>\n",
       "      <td>1</td>\n",
       "      <td>2021-05-21 19:35:58.381104</td>\n",
       "    </tr>\n",
       "    <tr>\n",
       "      <th>4</th>\n",
       "      <td>key_pressed</td>\n",
       "      <td>1</td>\n",
       "      <td>2021-05-21 19:35:58.717120</td>\n",
       "    </tr>\n",
       "    <tr>\n",
       "      <th>...</th>\n",
       "      <td>...</td>\n",
       "      <td>...</td>\n",
       "      <td>...</td>\n",
       "    </tr>\n",
       "    <tr>\n",
       "      <th>95</th>\n",
       "      <td>key_pressed</td>\n",
       "      <td>1</td>\n",
       "      <td>2021-05-21 19:36:24.209077</td>\n",
       "    </tr>\n",
       "    <tr>\n",
       "      <th>96</th>\n",
       "      <td>key_pressed</td>\n",
       "      <td>1</td>\n",
       "      <td>2021-05-21 19:36:24.440689</td>\n",
       "    </tr>\n",
       "    <tr>\n",
       "      <th>97</th>\n",
       "      <td>key_pressed</td>\n",
       "      <td>1</td>\n",
       "      <td>2021-05-21 19:36:24.705082</td>\n",
       "    </tr>\n",
       "    <tr>\n",
       "      <th>98</th>\n",
       "      <td>key_pressed</td>\n",
       "      <td>1</td>\n",
       "      <td>2021-05-21 19:36:24.928822</td>\n",
       "    </tr>\n",
       "    <tr>\n",
       "      <th>99</th>\n",
       "      <td>key_pressed</td>\n",
       "      <td>1</td>\n",
       "      <td>2021-05-21 19:36:25.168888</td>\n",
       "    </tr>\n",
       "  </tbody>\n",
       "</table>\n",
       "<p>100 rows × 3 columns</p>\n",
       "</div>"
      ],
      "text/plain": [
       "     input_type  input_value                   timestamp\n",
       "0   key_pressed            1  2021-05-21 19:35:57.603895\n",
       "1   key_pressed            1  2021-05-21 19:35:57.860989\n",
       "2   key_pressed            1  2021-05-21 19:35:58.157107\n",
       "3   key_pressed            1  2021-05-21 19:35:58.381104\n",
       "4   key_pressed            1  2021-05-21 19:35:58.717120\n",
       "..          ...          ...                         ...\n",
       "95  key_pressed            1  2021-05-21 19:36:24.209077\n",
       "96  key_pressed            1  2021-05-21 19:36:24.440689\n",
       "97  key_pressed            1  2021-05-21 19:36:24.705082\n",
       "98  key_pressed            1  2021-05-21 19:36:24.928822\n",
       "99  key_pressed            1  2021-05-21 19:36:25.168888\n",
       "\n",
       "[100 rows x 3 columns]"
      ]
     },
     "execution_count": 24,
     "metadata": {},
     "output_type": "execute_result"
    }
   ],
   "source": [
    "raw_data_keystroke"
   ]
  },
  {
   "cell_type": "markdown",
   "metadata": {},
   "source": [
    "### Calculate time for one K\n",
    "For calculation of the first timestamp is ignored, because you need time for orientation.\n",
    "The time difference between the last and the second timestamp is calculated.\n",
    "The result is divided by the number of keystrokes (equal to the length of the dataframe) minus one to get the time for one keystroke. "
   ]
  },
  {
   "cell_type": "code",
   "execution_count": 68,
   "metadata": {},
   "outputs": [
    {
     "data": {
      "text/plain": [
       "27308"
      ]
     },
     "execution_count": 68,
     "metadata": {},
     "output_type": "execute_result"
    }
   ],
   "source": [
    "time_diff_k = calc_time_diff(raw_data_keystroke)\n",
    "time_diff_k"
   ]
  },
  {
   "cell_type": "code",
   "execution_count": 69,
   "metadata": {},
   "outputs": [
    {
     "data": {
      "text/plain": [
       "275.83838383838383"
      ]
     },
     "execution_count": 69,
     "metadata": {},
     "output_type": "execute_result"
    }
   ],
   "source": [
    "time_for_one_keystroke = time_diff_k / (len(raw_data_keystroke) - 1)\n",
    "time_for_one_keystroke"
   ]
  },
  {
   "cell_type": "markdown",
   "metadata": {},
   "source": [
    "## B-Operator\n",
    "To calculate the button click, the same button (2) is pressed 100 times in a row. \n",
    "In this case, it was logged when a button is clicked (press + release)."
   ]
  },
  {
   "cell_type": "markdown",
   "metadata": {},
   "source": [
    "### Read csv file"
   ]
  },
  {
   "cell_type": "code",
   "execution_count": 70,
   "metadata": {},
   "outputs": [],
   "source": [
    "raw_data_button_clicks = pd.read_csv(\"klm_csv/button_clicks.csv\")"
   ]
  },
  {
   "cell_type": "markdown",
   "metadata": {
    "scrolled": false
   },
   "source": [
    "### Calculate time for one B\n",
    "The first timestamp is ignored as before.\n",
    "The time difference between the last and the second timestamp is calculated.\n",
    "The result is divided by the number of button press and release (equal to the length of the dataframe) minus one.\n",
    "To get the time for one button press or release the result is divided by two. "
   ]
  },
  {
   "cell_type": "code",
   "execution_count": 71,
   "metadata": {},
   "outputs": [
    {
     "data": {
      "text/plain": [
       "31848"
      ]
     },
     "execution_count": 71,
     "metadata": {},
     "output_type": "execute_result"
    }
   ],
   "source": [
    "time_diff_b = calc_time_diff(raw_data_button_clicks)\n",
    "time_diff_b"
   ]
  },
  {
   "cell_type": "code",
   "execution_count": 72,
   "metadata": {},
   "outputs": [
    {
     "data": {
      "text/plain": [
       "160.84848484848484"
      ]
     },
     "execution_count": 72,
     "metadata": {},
     "output_type": "execute_result"
    }
   ],
   "source": [
    "time_for_one_press = (time_diff_b / (len(raw_data_button_clicks) - 1)) / 2\n",
    "time_for_one_press"
   ]
  },
  {
   "cell_type": "markdown",
   "metadata": {},
   "source": [
    "## P-Operator\n",
    "To calculate the pointing of the mouse, the mouse pointer is moved to each button at least once in arbitrary order. In total 100 button clicks are registered.\n",
    "Each time a button is clicked the timestamp is logged."
   ]
  },
  {
   "cell_type": "markdown",
   "metadata": {},
   "source": [
    "### Read csv file"
   ]
  },
  {
   "cell_type": "code",
   "execution_count": 73,
   "metadata": {},
   "outputs": [],
   "source": [
    "raw_data_pointing_mouse = pd.read_csv(\"klm_csv/pointing_mouse.csv\")"
   ]
  },
  {
   "cell_type": "markdown",
   "metadata": {},
   "source": [
    "### Calculate time for one P\n",
    "The first timestamp is ignored as before.\n",
    "The time difference between the last and the second timestamp is calculated and divided by the number of click entries minus one to get the time for one P including button click. To calculate one P the button click (press and release) is subtracted."
   ]
  },
  {
   "cell_type": "code",
   "execution_count": 74,
   "metadata": {},
   "outputs": [
    {
     "data": {
      "text/plain": [
       "104087"
      ]
     },
     "execution_count": 74,
     "metadata": {},
     "output_type": "execute_result"
    }
   ],
   "source": [
    "time_diff_p = calc_time_diff(raw_data_pointing_mouse)\n",
    "time_diff_p"
   ]
  },
  {
   "cell_type": "code",
   "execution_count": 75,
   "metadata": {},
   "outputs": [
    {
     "data": {
      "text/plain": [
       "1051.3838383838383"
      ]
     },
     "execution_count": 75,
     "metadata": {},
     "output_type": "execute_result"
    }
   ],
   "source": [
    "time_for_one_pointing_with_b = time_diff_p / (len(raw_data_pointing_mouse) - 1)\n",
    "time_for_one_pointing_with_b"
   ]
  },
  {
   "cell_type": "code",
   "execution_count": 76,
   "metadata": {},
   "outputs": [
    {
     "data": {
      "text/plain": [
       "729.6868686868686"
      ]
     },
     "execution_count": 76,
     "metadata": {},
     "output_type": "execute_result"
    }
   ],
   "source": [
    "time_for_one_pointing = time_for_one_pointing_with_b - time_for_one_press * 2\n",
    "time_for_one_pointing"
   ]
  },
  {
   "cell_type": "markdown",
   "metadata": {},
   "source": [
    "## H-Operator\n",
    "To calculate the time for switching between keyboard and mouse, it is alternated between pressing the key 1 and clicking the button 0. This was repeated 100 times so that each key/button was pressed/clicked 50 times. The position of the mouse was on the 0 button so that it was not necessary to move the mouse. "
   ]
  },
  {
   "cell_type": "markdown",
   "metadata": {},
   "source": [
    "### Read csv file"
   ]
  },
  {
   "cell_type": "code",
   "execution_count": 77,
   "metadata": {},
   "outputs": [],
   "source": [
    "raw_data_hand_switch = pd.read_csv(\"klm_csv/hand_switch.csv\")"
   ]
  },
  {
   "cell_type": "markdown",
   "metadata": {},
   "source": [
    "### Calculate time for one H\n",
    "The first timestamp is ignored as before.\n",
    "The time difference between the last and the second timestamp is calculated.\n",
    "To get the time for one handswitch, the average duration of the handswitches is calculated and then the time for one click (press and release) is subtracted."
   ]
  },
  {
   "cell_type": "code",
   "execution_count": 78,
   "metadata": {},
   "outputs": [
    {
     "data": {
      "text/plain": [
       "62232"
      ]
     },
     "execution_count": 78,
     "metadata": {},
     "output_type": "execute_result"
    }
   ],
   "source": [
    "time_diff_h = calc_time_diff(raw_data_hand_switch)\n",
    "time_diff_h"
   ]
  },
  {
   "cell_type": "code",
   "execution_count": 79,
   "metadata": {},
   "outputs": [
    {
     "data": {
      "text/plain": [
       "628.6060606060606"
      ]
     },
     "execution_count": 79,
     "metadata": {},
     "output_type": "execute_result"
    }
   ],
   "source": [
    "time_for_one_h_with_b = time_diff_h / (len(raw_data_hand_switch) - 1)\n",
    "time_for_one_h_with_b"
   ]
  },
  {
   "cell_type": "code",
   "execution_count": 80,
   "metadata": {},
   "outputs": [
    {
     "data": {
      "text/plain": [
       "306.90909090909093"
      ]
     },
     "execution_count": 80,
     "metadata": {},
     "output_type": "execute_result"
    }
   ],
   "source": [
    "time_for_one_h = time_for_one_h_with_b - time_for_one_press * 2\n",
    "time_for_one_h"
   ]
  },
  {
   "cell_type": "markdown",
   "metadata": {},
   "source": [
    "## Overview of calculated KLM values\n",
    "|Operator|time (s)|\n",
    "|:-------|--------|\n",
    "|Keystroke|0.28| \n",
    "|Pointing with mouse|0.73|\n",
    "|Button press or release on mouse|0.16|\n",
    "|Hand switching between keyboard and mouse |0.31|"
   ]
  }
 ],
 "metadata": {
  "kernelspec": {
   "display_name": "Python 3",
   "language": "python",
   "name": "python3"
  },
  "language_info": {
   "codemirror_mode": {
    "name": "ipython",
    "version": 3
   },
   "file_extension": ".py",
   "mimetype": "text/x-python",
   "name": "python",
   "nbconvert_exporter": "python",
   "pygments_lexer": "ipython3",
   "version": "3.9.2"
  }
 },
 "nbformat": 4,
 "nbformat_minor": 1
}
